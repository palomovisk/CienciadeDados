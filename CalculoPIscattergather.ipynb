{
  "nbformat": 4,
  "nbformat_minor": 0,
  "metadata": {
    "colab": {
      "name": "CalculoPIscattergather.ipynb",
      "provenance": [],
      "include_colab_link": true
    },
    "kernelspec": {
      "name": "python3",
      "display_name": "Python 3"
    },
    "language_info": {
      "name": "python"
    }
  },
  "cells": [
    {
      "cell_type": "markdown",
      "metadata": {
        "id": "view-in-github",
        "colab_type": "text"
      },
      "source": [
        "<a href=\"https://colab.research.google.com/github/palomovisk/CienciadeDados/blob/main/CalculoPIscattergather.ipynb\" target=\"_parent\"><img src=\"https://colab.research.google.com/assets/colab-badge.svg\" alt=\"Open In Colab\"/></a>"
      ]
    },
    {
      "cell_type": "code",
      "source": [
        "!apt update"
      ],
      "metadata": {
        "colab": {
          "base_uri": "https://localhost:8080/"
        },
        "id": "G-MnqrQgKkCw",
        "outputId": "7d7f7b04-f083-4767-ab86-25a8c746c391"
      },
      "execution_count": null,
      "outputs": [
        {
          "output_type": "stream",
          "name": "stdout",
          "text": [
            "\u001b[33m\r0% [Working]\u001b[0m\r            \rHit:1 http://archive.ubuntu.com/ubuntu jammy InRelease\n",
            "Get:2 http://archive.ubuntu.com/ubuntu jammy-updates InRelease [128 kB]\n",
            "Get:3 https://cloud.r-project.org/bin/linux/ubuntu jammy-cran40/ InRelease [3,632 B]\n",
            "Get:4 http://archive.ubuntu.com/ubuntu jammy-backports InRelease [127 kB]\n",
            "Get:5 https://developer.download.nvidia.com/compute/cuda/repos/ubuntu2204/x86_64  InRelease [1,581 B]\n",
            "Get:6 http://security.ubuntu.com/ubuntu jammy-security InRelease [129 kB]\n",
            "Get:7 https://r2u.stat.illinois.edu/ubuntu jammy InRelease [6,555 B]\n",
            "Hit:8 https://ppa.launchpadcontent.net/deadsnakes/ppa/ubuntu jammy InRelease\n",
            "Hit:9 https://ppa.launchpadcontent.net/graphics-drivers/ppa/ubuntu jammy InRelease\n",
            "Hit:10 https://ppa.launchpadcontent.net/ubuntugis/ppa/ubuntu jammy InRelease\n",
            "Get:11 http://archive.ubuntu.com/ubuntu jammy-updates/universe amd64 Packages [1,526 kB]\n",
            "Get:12 http://archive.ubuntu.com/ubuntu jammy-updates/main amd64 Packages [2,939 kB]\n",
            "Get:13 https://r2u.stat.illinois.edu/ubuntu jammy/main amd64 Packages [2,662 kB]\n",
            "Get:14 https://r2u.stat.illinois.edu/ubuntu jammy/main all Packages [8,696 kB]\n",
            "Get:15 http://security.ubuntu.com/ubuntu jammy-security/main amd64 Packages [2,610 kB]\n",
            "Get:16 http://security.ubuntu.com/ubuntu jammy-security/universe amd64 Packages [1,230 kB]\n",
            "Get:17 https://developer.download.nvidia.com/compute/cuda/repos/ubuntu2204/x86_64  Packages [1,317 kB]\n",
            "Fetched 21.4 MB in 6s (3,320 kB/s)\n",
            "Reading package lists... Done\n",
            "Building dependency tree... Done\n",
            "Reading state information... Done\n",
            "31 packages can be upgraded. Run 'apt list --upgradable' to see them.\n",
            "\u001b[1;33mW: \u001b[0mSkipping acquire of configured file 'main/source/Sources' as repository 'https://r2u.stat.illinois.edu/ubuntu jammy InRelease' does not seem to provide it (sources.list entry misspelt?)\u001b[0m\n"
          ]
        }
      ]
    },
    {
      "cell_type": "code",
      "execution_count": null,
      "metadata": {
        "id": "wT_CNHAL8KG_",
        "colab": {
          "base_uri": "https://localhost:8080/"
        },
        "outputId": "485c4f41-ad65-4fe8-b338-e4f7c0e32128"
      },
      "outputs": [
        {
          "output_type": "stream",
          "name": "stdout",
          "text": [
            "Reading package lists... Done\n",
            "Building dependency tree... Done\n",
            "Reading state information... Done\n",
            "libopenmpi-dev is already the newest version (4.1.2-2ubuntu1).\n",
            "openmpi-bin is already the newest version (4.1.2-2ubuntu1).\n",
            "openmpi-common is already the newest version (4.1.2-2ubuntu1).\n",
            "0 upgraded, 0 newly installed, 0 to remove and 31 not upgraded.\n"
          ]
        }
      ],
      "source": [
        "!apt install openmpi-bin openmpi-common libopenmpi-dev"
      ]
    },
    {
      "cell_type": "code",
      "source": [
        "from google.colab import drive\n",
        "drive.mount('/content/drive/')"
      ],
      "metadata": {
        "colab": {
          "base_uri": "https://localhost:8080/"
        },
        "id": "7k89cakaIA1F",
        "outputId": "905cef0a-e2e7-40d2-b460-5f57b4192e31"
      },
      "execution_count": null,
      "outputs": [
        {
          "output_type": "stream",
          "name": "stdout",
          "text": [
            "Mounted at /content/drive/\n"
          ]
        }
      ]
    },
    {
      "cell_type": "code",
      "source": [
        "%%writefile CalculoPIscattergather-mpi.c\n",
        "\n",
        "//Paloma de Sousa Bezerra\n",
        "//10376795\n",
        "\n",
        "\n",
        "#include <stdio.h>\n",
        "#include <stdlib.h>\n",
        "#include <mpi.h>\n",
        "\n",
        "//Funcao para calcular pi\n",
        "double calcula_pi(double *data, int local_n) {\n",
        "    double sum = 0.0;\n",
        "    for (int i = 0; i < local_n; i++) {\n",
        "        double factor = ((int)data[i] % 2 == 0) ? 1.0 : -1.0;\n",
        "        sum += factor / (2 * data[i] + 1);\n",
        "    }\n",
        "    return sum;\n",
        "}\n",
        "\n",
        "int main(int argc, char *argv[]) {\n",
        "    int rank, size, n = 1000000;\n",
        "    double *data = NULL, *local_data;\n",
        "    double local_sum, *res_data;\n",
        "    double pi = 0.0;\n",
        "\n",
        "    MPI_Init(&argc, &argv);\n",
        "    MPI_Comm_rank(MPI_COMM_WORLD, &rank);\n",
        "    MPI_Comm_size(MPI_COMM_WORLD, &size);\n",
        "\n",
        "    int local_n = n / size;\n",
        "    local_data = (double *)malloc(local_n * sizeof(double));\n",
        "    res_data = (double *)malloc(size * sizeof(double));\n",
        "\n",
        "    // Processo raiz gera os dados\n",
        "    if (rank == 0) {\n",
        "        data = (double *)malloc(n * sizeof(double));\n",
        "        for (int i = 0; i < n; i++) {\n",
        "            data[i] = i;\n",
        "        }\n",
        "    }\n",
        "\n",
        "    // Distribui os dados entre os processos\n",
        "    MPI_Scatter(data, local_n, MPI_DOUBLE, local_data, local_n, MPI_DOUBLE, 0, MPI_COMM_WORLD);\n",
        "\n",
        "    // Cada processo calcula sua parte da série\n",
        "    local_sum = calcula_pi(local_data, local_n);\n",
        "\n",
        "    // Coleta os resultados parciais no processo raiz\n",
        "    MPI_Gather(&local_sum, 1, MPI_DOUBLE, res_data, 1, MPI_DOUBLE, 0, MPI_COMM_WORLD);\n",
        "\n",
        "    // Processo raiz calcula o valor final de pi\n",
        "    if (rank == 0) {\n",
        "        double global_sum = 0.0;\n",
        "        for (int i = 0; i < size; i++) {\n",
        "            global_sum += res_data[i];\n",
        "        }\n",
        "        pi = 4.0 * global_sum;\n",
        "        printf(\"Resultado de Pi: %.15f\\n\", pi);\n",
        "\n",
        "        // Libera memória alocada\n",
        "        free(data);\n",
        "    }\n",
        "\n",
        "    // Libera memória alocada\n",
        "    free(local_data);\n",
        "    free(res_data);\n",
        "\n",
        "    MPI_Finalize();\n",
        "    return 0;\n",
        "}"
      ],
      "metadata": {
        "id": "IjyITTZb8X4b",
        "colab": {
          "base_uri": "https://localhost:8080/"
        },
        "outputId": "cc259501-53c8-49de-963a-f1a01c3a9879"
      },
      "execution_count": null,
      "outputs": [
        {
          "output_type": "stream",
          "name": "stdout",
          "text": [
            "Overwriting CalculoPIscattergather-mpi.c\n"
          ]
        }
      ]
    },
    {
      "cell_type": "code",
      "source": [
        "!mpicc -o CalculoPIscattergather-mpi CalculoPIscattergather-mpi.c"
      ],
      "metadata": {
        "id": "e2YZ_O_e8y9s"
      },
      "execution_count": null,
      "outputs": []
    },
    {
      "cell_type": "code",
      "source": [
        "!mpiexec  --allow-run-as-root --oversubscribe  -n 4 ./CalculoPIscattergather-mpi"
      ],
      "metadata": {
        "id": "2bGIuJ1q85NZ",
        "colab": {
          "base_uri": "https://localhost:8080/"
        },
        "outputId": "b891cde9-293e-444a-9a51-3ce2a772a3e1"
      },
      "execution_count": null,
      "outputs": [
        {
          "output_type": "stream",
          "name": "stdout",
          "text": [
            "Resultado de Pi: 3.141591653589781\n"
          ]
        }
      ]
    }
  ]
}