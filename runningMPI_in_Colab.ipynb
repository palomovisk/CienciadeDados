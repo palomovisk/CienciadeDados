{
  "nbformat": 4,
  "nbformat_minor": 0,
  "metadata": {
    "colab": {
      "name": "runningMPI-in-Colab.ipynb",
      "provenance": [],
      "include_colab_link": true
    },
    "kernelspec": {
      "name": "python3",
      "display_name": "Python 3"
    },
    "language_info": {
      "name": "python"
    }
  },
  "cells": [
    {
      "cell_type": "markdown",
      "metadata": {
        "id": "view-in-github",
        "colab_type": "text"
      },
      "source": [
        "<a href=\"https://colab.research.google.com/github/palomovisk/CienciadeDados/blob/main/runningMPI_in_Colab.ipynb\" target=\"_parent\"><img src=\"https://colab.research.google.com/assets/colab-badge.svg\" alt=\"Open In Colab\"/></a>"
      ]
    },
    {
      "cell_type": "code",
      "source": [
        "!apt update"
      ],
      "metadata": {
        "id": "G-MnqrQgKkCw",
        "outputId": "7d7f7b04-f083-4767-ab86-25a8c746c391",
        "colab": {
          "base_uri": "https://localhost:8080/"
        }
      },
      "execution_count": 18,
      "outputs": [
        {
          "output_type": "stream",
          "name": "stdout",
          "text": [
            "\u001b[33m\r0% [Working]\u001b[0m\r            \rHit:1 http://archive.ubuntu.com/ubuntu jammy InRelease\n",
            "Get:2 http://archive.ubuntu.com/ubuntu jammy-updates InRelease [128 kB]\n",
            "Get:3 https://cloud.r-project.org/bin/linux/ubuntu jammy-cran40/ InRelease [3,632 B]\n",
            "Get:4 http://archive.ubuntu.com/ubuntu jammy-backports InRelease [127 kB]\n",
            "Get:5 https://developer.download.nvidia.com/compute/cuda/repos/ubuntu2204/x86_64  InRelease [1,581 B]\n",
            "Get:6 http://security.ubuntu.com/ubuntu jammy-security InRelease [129 kB]\n",
            "Get:7 https://r2u.stat.illinois.edu/ubuntu jammy InRelease [6,555 B]\n",
            "Hit:8 https://ppa.launchpadcontent.net/deadsnakes/ppa/ubuntu jammy InRelease\n",
            "Hit:9 https://ppa.launchpadcontent.net/graphics-drivers/ppa/ubuntu jammy InRelease\n",
            "Hit:10 https://ppa.launchpadcontent.net/ubuntugis/ppa/ubuntu jammy InRelease\n",
            "Get:11 http://archive.ubuntu.com/ubuntu jammy-updates/universe amd64 Packages [1,526 kB]\n",
            "Get:12 http://archive.ubuntu.com/ubuntu jammy-updates/main amd64 Packages [2,939 kB]\n",
            "Get:13 https://r2u.stat.illinois.edu/ubuntu jammy/main amd64 Packages [2,662 kB]\n",
            "Get:14 https://r2u.stat.illinois.edu/ubuntu jammy/main all Packages [8,696 kB]\n",
            "Get:15 http://security.ubuntu.com/ubuntu jammy-security/main amd64 Packages [2,610 kB]\n",
            "Get:16 http://security.ubuntu.com/ubuntu jammy-security/universe amd64 Packages [1,230 kB]\n",
            "Get:17 https://developer.download.nvidia.com/compute/cuda/repos/ubuntu2204/x86_64  Packages [1,317 kB]\n",
            "Fetched 21.4 MB in 6s (3,320 kB/s)\n",
            "Reading package lists... Done\n",
            "Building dependency tree... Done\n",
            "Reading state information... Done\n",
            "31 packages can be upgraded. Run 'apt list --upgradable' to see them.\n",
            "\u001b[1;33mW: \u001b[0mSkipping acquire of configured file 'main/source/Sources' as repository 'https://r2u.stat.illinois.edu/ubuntu jammy InRelease' does not seem to provide it (sources.list entry misspelt?)\u001b[0m\n"
          ]
        }
      ]
    },
    {
      "cell_type": "code",
      "execution_count": 19,
      "metadata": {
        "id": "wT_CNHAL8KG_",
        "outputId": "485c4f41-ad65-4fe8-b338-e4f7c0e32128",
        "colab": {
          "base_uri": "https://localhost:8080/"
        }
      },
      "outputs": [
        {
          "output_type": "stream",
          "name": "stdout",
          "text": [
            "Reading package lists... Done\n",
            "Building dependency tree... Done\n",
            "Reading state information... Done\n",
            "libopenmpi-dev is already the newest version (4.1.2-2ubuntu1).\n",
            "openmpi-bin is already the newest version (4.1.2-2ubuntu1).\n",
            "openmpi-common is already the newest version (4.1.2-2ubuntu1).\n",
            "0 upgraded, 0 newly installed, 0 to remove and 31 not upgraded.\n"
          ]
        }
      ],
      "source": [
        "!apt install openmpi-bin openmpi-common libopenmpi-dev"
      ]
    },
    {
      "cell_type": "code",
      "source": [
        "from google.colab import drive\n",
        "drive.mount('/content/drive/')"
      ],
      "metadata": {
        "id": "7k89cakaIA1F",
        "outputId": "905cef0a-e2e7-40d2-b460-5f57b4192e31",
        "colab": {
          "base_uri": "https://localhost:8080/"
        }
      },
      "execution_count": 2,
      "outputs": [
        {
          "output_type": "stream",
          "name": "stdout",
          "text": [
            "Mounted at /content/drive/\n"
          ]
        }
      ]
    },
    {
      "cell_type": "code",
      "source": [
        "%%writefile CalculoPIsendandreceiv-mpi.c\n",
        "\n",
        "//Paloma de Sousa Bezerra\n",
        "//RA: 10376795\n",
        "\n",
        "#include \"mpi.h\"\n",
        "#include <stdio.h>\n",
        "#include <stdlib.h>\n",
        "#include <math.h>\n",
        "\n",
        "#define MAXSIZE 1000000\n",
        "\n",
        "//Funcao para calcular pi\n",
        "double calcula_pi(double *data, int local_n) {\n",
        "    double sum = 0.0;\n",
        "    for (int i = 0; i < local_n; i++) {\n",
        "        double factor = ((int)data[i] % 2 == 0) ? 1.0 : -1.0;\n",
        "        sum += factor / (2 * data[i] + 1);\n",
        "    }\n",
        "    return sum;\n",
        "}\n",
        "\n",
        "int main(int argc, char **argv) {\n",
        "    int myid, numprocs;\n",
        "    int local_n, i, low, high;\n",
        "    double myresult = 0.0, result = 0.0;\n",
        "    double *data = NULL;\n",
        "    double *my_data;\n",
        "\n",
        "    MPI_Init(&argc, &argv);\n",
        "    MPI_Comm_size(MPI_COMM_WORLD, &numprocs);\n",
        "    MPI_Comm_rank(MPI_COMM_WORLD, &myid);\n",
        "\n",
        "    local_n = MAXSIZE / numprocs;\n",
        "    low = myid * local_n;\n",
        "    high = low + local_n;\n",
        "\n",
        "    // Aloca memória para os dados locais\n",
        "    my_data = (double *)malloc(local_n * sizeof(double));\n",
        "\n",
        "    // Processo raiz gera os dados\n",
        "    if (myid == 0) {\n",
        "        data = (double *)malloc(MAXSIZE * sizeof(double));\n",
        "        for (i = 0; i < MAXSIZE; i++) {\n",
        "            data[i] = i;\n",
        "        }\n",
        "    }\n",
        "\n",
        "    // Envia dados para os processos escravos\n",
        "    if (myid == 0) {\n",
        "        for (i = 1; i < numprocs; i++) {\n",
        "            low = i * local_n;\n",
        "            high = low + local_n;\n",
        "            MPI_Send(&data[low], local_n, MPI_DOUBLE, i, 0, MPI_COMM_WORLD);\n",
        "        }\n",
        "        // Dados para o processo raiz\n",
        "        for (i = 0; i < local_n; i++) {\n",
        "            my_data[i] = data[i];\n",
        "        }\n",
        "    } else {\n",
        "        // Processos escravos recebem os dados\n",
        "        MPI_Recv(my_data, local_n, MPI_DOUBLE, 0, 0, MPI_COMM_WORLD, MPI_STATUS_IGNORE);\n",
        "    }\n",
        "\n",
        "    // Cada processo calcula sua parte da série\n",
        "    myresult = calcula_pi(my_data, local_n);\n",
        "\n",
        "    // Envia o resultado parcial para o processo raiz\n",
        "    if (myid != 0) {\n",
        "        MPI_Send(&myresult, 1, MPI_DOUBLE, 0, 0, MPI_COMM_WORLD);\n",
        "    }\n",
        "\n",
        "    // Processo raiz coleta os resultados parciais\n",
        "    if (myid == 0) {\n",
        "        result = myresult;\n",
        "        for (i = 1; i < numprocs; i++) {\n",
        "            MPI_Recv(&myresult, 1, MPI_DOUBLE, i, 0, MPI_COMM_WORLD, MPI_STATUS_IGNORE);\n",
        "            result += myresult;\n",
        "        }\n",
        "        double pi = 4.0 * result;\n",
        "        printf(\"Calculo do Pi: %.15f\\n\", pi);\n",
        "\n",
        "        // Libera memória alocada\n",
        "        free(data);\n",
        "    }\n",
        "\n",
        "    // Libera memória alocada\n",
        "    free(my_data);\n",
        "\n",
        "    MPI_Finalize();\n",
        "    return 0;\n",
        "}"
      ],
      "metadata": {
        "id": "IjyITTZb8X4b",
        "outputId": "8e25bbce-dece-4bce-cda6-d29bba37bfb3",
        "colab": {
          "base_uri": "https://localhost:8080/"
        }
      },
      "execution_count": 5,
      "outputs": [
        {
          "output_type": "stream",
          "name": "stdout",
          "text": [
            "Writing CalculoPIsendandreceiv-mpi.c\n"
          ]
        }
      ]
    },
    {
      "cell_type": "code",
      "source": [
        "!mpicc -o CalculoPIsendandreceiv-mpi CalculoPIsendandreceiv-mpi.c"
      ],
      "metadata": {
        "id": "e2YZ_O_e8y9s"
      },
      "execution_count": 6,
      "outputs": []
    },
    {
      "cell_type": "code",
      "source": [
        "!mpiexec  --allow-run-as-root --oversubscribe  -n 4 ./CalculoPIsendandreceiv-mpi"
      ],
      "metadata": {
        "id": "2bGIuJ1q85NZ",
        "outputId": "cff99b31-2bdf-4810-92b9-da4b94a57db8",
        "colab": {
          "base_uri": "https://localhost:8080/"
        }
      },
      "execution_count": 7,
      "outputs": [
        {
          "output_type": "stream",
          "name": "stdout",
          "text": [
            "Calculo do Pi: 3.141591653589781\n"
          ]
        }
      ]
    }
  ]
}